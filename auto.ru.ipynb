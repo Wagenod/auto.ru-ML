{
 "cells": [
  {
   "cell_type": "code",
   "execution_count": 1,
   "metadata": {},
   "outputs": [
    {
     "name": "stderr",
     "output_type": "stream",
     "text": [
      "D:\\Anaconda\\lib\\site-packages\\pandas\\compat\\_optional.py:106: UserWarning: Pandas requires version '1.2.1' or newer of 'bottleneck' (version '1.0.0' currently installed).\n",
      "  warnings.warn(msg, UserWarning)\n"
     ]
    }
   ],
   "source": [
    "import re\n",
    "import requests\n",
    "import random\n",
    "import numpy as np\n",
    "import pandas as pd\n",
    "import csv\n",
    "import seaborn as sns\n",
    "\n",
    "from selenium import webdriver  # необходимо использовать selenium для навигации и принятия согласия (иначе на сайт не пустит)\n",
    "from bs4 import BeautifulSoup\n",
    "from matplotlib import pyplot as plt\n",
    "from time import sleep\n",
    "from sklearn.preprocessing import OneHotEncoder, LabelEncoder, StandardScaler\n",
    "from sklearn.cluster import KMeans\n",
    "from sklearn import decomposition\n",
    "from sklearn import metrics\n",
    "from sklearn.cross_validation import train_test_split\n",
    "from sklearn.linear_model import LinearRegression, Ridge, Lasso\n",
    "\n",
    "sns.set()\n",
    "\n",
    "RANDOM_STATE = 32 # для воспроизводимости результатов\n",
    "BASE_URL = 'https://auto.ru/cars/all/?sort=fresh_relevance_1-desc&output_type=list&page={}'\n",
    "NUM_PAGES = 30 #сколько страниц на сайте парсим\n",
    "USER_AGENT = 'Mozilla/5.0 (Windows NT 10.0; Win64; x64) AppleWebKit/537.36 (KHTML, like Gecko) Chrome/60.0.3112.113 Safari/537.36'"
   ]
  },
  {
   "cell_type": "markdown",
   "metadata": {},
   "source": [
    "# Парсинг данных об автомобилях\n",
    "Для парсинга будем использовать один из крупнейших сайтов купли/продажи автомобилей на территории РФ - [auto.ru](https://auto.ru). Для каждого автомобиля с сайта будем извлекать следующие данные:\n",
    "- **car_model** - марка автомобиля\n",
    "- **price** - цена автомобиля (руб.)\n",
    "- **km_age** - пробег автомобиля (км.)\n",
    "- **manufacture_year** - год выпуска\n",
    "- **engine_capacity** - объем двигателя (л)\n",
    "- **engine_power** - мощность двигателя (л.с.)\n",
    "- **fuel** - топливо\n",
    "- **link** - ссылка на машину"
   ]
  },
  {
   "cell_type": "code",
   "execution_count": 93,
   "metadata": {},
   "outputs": [],
   "source": [
    "# возвращает html-код страницы по ее номеру в случае успешного запроса\n",
    "def get_page_content(page_number):\n",
    "    response = requests.get(BASE_URL.format(page_number), headers = {'User-Agent': USER_AGENT})\n",
    "    if response.status_code == 200:\n",
    "        return response.content\n",
    "    else:\n",
    "        return None"
   ]
  },
  {
   "cell_type": "code",
   "execution_count": 94,
   "metadata": {},
   "outputs": [],
   "source": [
    "# возвращает марку модели\n",
    "def get_car_model(car_soup):\n",
    "    try:\n",
    "        return car_soup.find('a', attrs={'class':re.compile(\".*Title.*\")}).text\n",
    "    except Exception as e:\n",
    "        print(\"Ошибка извлечения марки машины {} : \\n {}\".format(get_car_link(car_soup), str(e)))\n",
    "        return np.nan"
   ]
  },
  {
   "cell_type": "code",
   "execution_count": 95,
   "metadata": {},
   "outputs": [],
   "source": [
    "#возвращает цену машины\n",
    "def get_car_price(car_soup):\n",
    "    try:\n",
    "        price = car_soup.find('div', attrs={'class':re.compile(\".*Price$\")}).div.text\n",
    "        return re.sub(\"\\D\",\"\",price) # '1\\xa0330\\xa0000\\xa0₽' - > 1330000\n",
    "    except Exception as e:\n",
    "        print(\"Ошибка извлечения цены машины {}: \\n {}\".format(get_car_link(car_soup), str(e)))\n",
    "        return np.nan"
   ]
  },
  {
   "cell_type": "code",
   "execution_count": 96,
   "metadata": {},
   "outputs": [],
   "source": [
    "#возвращает пробег машины\n",
    "def get_km_age(car_soup):\n",
    "    try:\n",
    "        km_age = car_soup.find('div', attrs={'class':re.compile(\".*KmAge$\")}).div.text\n",
    "        return re.sub(\"\\D\",\"\",km_age)\n",
    "    except Exception as e:\n",
    "        print(\"Ошибка извлечения пробега машины {}: \\n {}\".format(get_car_link(car_soup), str(e)))\n",
    "        return np.nan"
   ]
  },
  {
   "cell_type": "code",
   "execution_count": 97,
   "metadata": {},
   "outputs": [],
   "source": [
    "#возвращает год выпуска машины\n",
    "def get_manufacture_year(car_soup):\n",
    "    try:\n",
    "        return car_soup.find('div', attrs={'class':re.compile(\".*year$\")}).text\n",
    "    except Exception as e:\n",
    "        print(\"Ошибка извлечения года выпуска машины {}: {}\".format(get_car_link(car_soup), str(e)))\n",
    "        return np.nan"
   ]
  },
  {
   "cell_type": "code",
   "execution_count": 98,
   "metadata": {},
   "outputs": [],
   "source": [
    "#возвращает информацию о двигателе машины\n",
    "def get_engine_info(car_soup):\n",
    "    engine_capacity, engine_power, fuel = (np.nan,)*3\n",
    "    try:\n",
    "        engine_info = car_soup.find('div', attrs={'class':'ListingItemTechSummary-module__cell'}).text\n",
    "        for info in engine_info.split('/'):\n",
    "            if 'л.' in info:\n",
    "                engine_power = parse_numbers(info)\n",
    "            elif info.strip() in ['Бензин', 'Дизель', 'Гибрид', 'Электро']:\n",
    "                fuel = info.strip()                \n",
    "            elif 'л' in info:\n",
    "                engine_capacity = parse_numbers(info)\n",
    "        return engine_capacity, engine_power, fuel\n",
    "    except Exception as e:\n",
    "        print(\"Ошибка извлечения информации о двигателе машины {} : {}\".format(get_car_link(car_soup), str(e)))\n",
    "        return (np.nan,)*3"
   ]
  },
  {
   "cell_type": "code",
   "execution_count": 99,
   "metadata": {},
   "outputs": [],
   "source": [
    "def get_car_link(car_soup):\n",
    "    try:\n",
    "        return car_soup.find('a', attrs={'class':re.compile(\".*Title.*\")})['href']\n",
    "    except Exception as e:\n",
    "        print(\"Ошибка извлечения ссылки на машину: {}\".format(str(e)))\n",
    "        return np.nan   "
   ]
  },
  {
   "cell_type": "code",
   "execution_count": 100,
   "metadata": {},
   "outputs": [],
   "source": [
    "# вспомогательная функция: извлекает число из строки\n",
    "def parse_numbers(text):\n",
    "    return re.findall(r\"\\d+\\.?\\d*\", text)[0]"
   ]
  },
  {
   "cell_type": "code",
   "execution_count": 109,
   "metadata": {},
   "outputs": [],
   "source": [
    "# нажимает на кнопку принять при открытии сайта\n",
    "def click_accept(diver):\n",
    "    try:\n",
    "        driver.find_element_by_css_selector('#confirm-button').click()\n",
    "    except Exception as e:\n",
    "        print(\"Не удалось зайти на сайт \\n\".format(str(e)))"
   ]
  },
  {
   "cell_type": "code",
   "execution_count": 113,
   "metadata": {},
   "outputs": [],
   "source": [
    "# переходит на следующую страницу и возвращает ее содержимое\n",
    "def get_next_page_content(driver):\n",
    "    driver.find_element_by_xpath('//*[@id=\"listing-filters\"]/div[10]/div/div/a[2]/span/span').click()\n",
    "    return driver.page_source"
   ]
  },
  {
   "cell_type": "code",
   "execution_count": 117,
   "metadata": {},
   "outputs": [
    {
     "name": "stdout",
     "output_type": "stream",
     "text": [
      "Обрабатываем страницу № 1\n",
      "Получено 37 машин\n",
      "Обрабатываем страницу № 2\n",
      "Получено 37 машин\n",
      "Обрабатываем страницу № 3\n",
      "Получено 37 машин\n",
      "Обрабатываем страницу № 4\n",
      "Получено 37 машин\n",
      "Обрабатываем страницу № 5\n",
      "Получено 37 машин\n",
      "Обрабатываем страницу № 6\n",
      "Получено 37 машин\n",
      "Обрабатываем страницу № 7\n",
      "Получено 37 машин\n",
      "Обрабатываем страницу № 8\n",
      "Получено 37 машин\n",
      "Обрабатываем страницу № 9\n",
      "Получено 37 машин\n",
      "Обрабатываем страницу № 10\n",
      "Получено 37 машин\n",
      "Обрабатываем страницу № 11\n",
      "Получено 37 машин\n",
      "Обрабатываем страницу № 12\n",
      "Получено 37 машин\n",
      "Обрабатываем страницу № 13\n",
      "Получено 37 машин\n",
      "Обрабатываем страницу № 14\n",
      "Получено 37 машин\n",
      "Обрабатываем страницу № 15\n",
      "Получено 37 машин\n",
      "Обрабатываем страницу № 16\n",
      "Получено 37 машин\n",
      "Обрабатываем страницу № 17\n",
      "Получено 37 машин\n",
      "Обрабатываем страницу № 18\n",
      "Получено 37 машин\n",
      "Обрабатываем страницу № 19\n",
      "Получено 37 машин\n",
      "Обрабатываем страницу № 20\n",
      "Получено 37 машин\n",
      "Обрабатываем страницу № 21\n",
      "Получено 37 машин\n",
      "Обрабатываем страницу № 22\n",
      "Получено 37 машин\n",
      "Обрабатываем страницу № 23\n",
      "Получено 37 машин\n",
      "Обрабатываем страницу № 24\n",
      "Получено 37 машин\n",
      "Обрабатываем страницу № 25\n",
      "Получено 37 машин\n",
      "Обрабатываем страницу № 26\n",
      "Получено 37 машин\n",
      "Обрабатываем страницу № 27\n",
      "Получено 37 машин\n",
      "Обрабатываем страницу № 28\n",
      "Получено 37 машин\n",
      "Обрабатываем страницу № 29\n",
      "Получено 37 машин\n"
     ]
    }
   ],
   "source": [
    "cars_info = []  #список, куда будем записывать найденную информацию\n",
    "cars_info.append(['car_model','price','km_age','manufacture_year', 'engine_capacity', 'engine_power', 'fuel', 'link'])\n",
    "\n",
    "driver = webdriver.Firefox() # открываем браузер\n",
    "driver.get('https://auto.ru') # переходим на сам сайт\n",
    "click_accept(driver) # нажимаем на кнопку принять\n",
    "driver.get(BASE_URL.format(1)) # перехожу на первую страницу\n",
    "page_content = driver.page_source # забираю html-код страницы\n",
    "\n",
    "for page_number in range(1,NUM_PAGES + 1):\n",
    "    print(\"Обрабатываем страницу № {}\".format(page_number))\n",
    "    if page_content is None:\n",
    "        print(\"Возникла ошибка при получении запроса\")\n",
    "        break\n",
    "    page_soup = BeautifulSoup(page_content, 'lxml')\n",
    "    # извлекаем список автомобилей с текущей страницы\n",
    "    page_cars = page_soup.findAll('div', attrs={'class':'ListingItem-module__container ListingCars-module__listingItem'})\n",
    "    print(\"Получено {} машин\".format(len(page_cars)))\n",
    "    for car in page_cars:\n",
    "        link = get_car_link(car)\n",
    "        car_model = get_car_model(car) # извлекаем марку машины\n",
    "        price = get_car_price(car) # извлекаем цену\n",
    "        km_age = get_km_age(car) # и т.д\n",
    "        manufacture_year = get_manufacture_year(car)\n",
    "        engine_capacity, engine_power, fuel = get_engine_info(car)\n",
    "        cars_info.append([car_model, price, km_age, manufacture_year, engine_capacity, engine_power, fuel, link])\n",
    "    sleep(random.gauss(3,1)) # чтобы делать случайные перерывы между запросами (в данном случае нормальное распределение со средним 3 и дисперсией 1)\n",
    "    page_content = get_next_page_content(driver)"
   ]
  },
  {
   "cell_type": "markdown",
   "metadata": {},
   "source": [
    "Сохраним данные в отдельный csv файл"
   ]
  },
  {
   "cell_type": "code",
   "execution_count": 129,
   "metadata": {},
   "outputs": [],
   "source": [
    "with open('cars.csv', 'w', newline='', encoding='utf-8') as f:\n",
    "    writer = csv.writer(f)\n",
    "    writer.writerows(cars_info)"
   ]
  },
  {
   "cell_type": "markdown",
   "metadata": {},
   "source": [
    "# Разведочный анализ датасета (Exploratory data analysis)"
   ]
  },
  {
   "cell_type": "code",
   "execution_count": 2,
   "metadata": {},
   "outputs": [],
   "source": [
    "cars_df = pd.read_csv('cars.csv') # считываем данные с файла"
   ]
  },
  {
   "cell_type": "code",
   "execution_count": 3,
   "metadata": {},
   "outputs": [
    {
     "data": {
      "text/html": [
       "<div>\n",
       "<style scoped>\n",
       "    .dataframe tbody tr th:only-of-type {\n",
       "        vertical-align: middle;\n",
       "    }\n",
       "\n",
       "    .dataframe tbody tr th {\n",
       "        vertical-align: top;\n",
       "    }\n",
       "\n",
       "    .dataframe thead th {\n",
       "        text-align: right;\n",
       "    }\n",
       "</style>\n",
       "<table border=\"1\" class=\"dataframe\">\n",
       "  <thead>\n",
       "    <tr style=\"text-align: right;\">\n",
       "      <th></th>\n",
       "      <th>car_model</th>\n",
       "      <th>price</th>\n",
       "      <th>km_age</th>\n",
       "      <th>manufacture_year</th>\n",
       "      <th>engine_capacity</th>\n",
       "      <th>engine_power</th>\n",
       "      <th>fuel</th>\n",
       "      <th>link</th>\n",
       "    </tr>\n",
       "  </thead>\n",
       "  <tbody>\n",
       "    <tr>\n",
       "      <td>0</td>\n",
       "      <td>Land Rover Range Rover IV</td>\n",
       "      <td>2750000</td>\n",
       "      <td>129500.0</td>\n",
       "      <td>2015</td>\n",
       "      <td>3.0</td>\n",
       "      <td>340</td>\n",
       "      <td>Бензин</td>\n",
       "      <td>https://auto.ru/cars/used/sale/land_rover/rang...</td>\n",
       "    </tr>\n",
       "    <tr>\n",
       "      <td>1</td>\n",
       "      <td>Renault Logan II Рестайлинг</td>\n",
       "      <td>547745</td>\n",
       "      <td>NaN</td>\n",
       "      <td>2019</td>\n",
       "      <td>1.6</td>\n",
       "      <td>82</td>\n",
       "      <td>Бензин</td>\n",
       "      <td>https://auto.ru/cars/new/group/renault/logan/2...</td>\n",
       "    </tr>\n",
       "    <tr>\n",
       "      <td>2</td>\n",
       "      <td>Toyota Land Cruiser 200 Series Рестайлинг 2</td>\n",
       "      <td>3500000</td>\n",
       "      <td>110000.0</td>\n",
       "      <td>2016</td>\n",
       "      <td>4.5</td>\n",
       "      <td>249</td>\n",
       "      <td>Дизель</td>\n",
       "      <td>https://auto.ru/cars/used/sale/toyota/land_cru...</td>\n",
       "    </tr>\n",
       "    <tr>\n",
       "      <td>3</td>\n",
       "      <td>Subaru Legacy II</td>\n",
       "      <td>85000</td>\n",
       "      <td>280000.0</td>\n",
       "      <td>1997</td>\n",
       "      <td>2.0</td>\n",
       "      <td>115</td>\n",
       "      <td>Бензин</td>\n",
       "      <td>https://auto.ru/cars/used/sale/subaru/legacy/1...</td>\n",
       "    </tr>\n",
       "    <tr>\n",
       "      <td>4</td>\n",
       "      <td>Mazda 3 I (BK) Рестайлинг</td>\n",
       "      <td>340000</td>\n",
       "      <td>144000.0</td>\n",
       "      <td>2008</td>\n",
       "      <td>1.6</td>\n",
       "      <td>105</td>\n",
       "      <td>Бензин</td>\n",
       "      <td>https://auto.ru/cars/used/sale/mazda/3/1094689...</td>\n",
       "    </tr>\n",
       "  </tbody>\n",
       "</table>\n",
       "</div>"
      ],
      "text/plain": [
       "                                     car_model    price    km_age  \\\n",
       "0                    Land Rover Range Rover IV  2750000  129500.0   \n",
       "1                  Renault Logan II Рестайлинг   547745       NaN   \n",
       "2  Toyota Land Cruiser 200 Series Рестайлинг 2  3500000  110000.0   \n",
       "3                             Subaru Legacy II    85000  280000.0   \n",
       "4                    Mazda 3 I (BK) Рестайлинг   340000  144000.0   \n",
       "\n",
       "   manufacture_year  engine_capacity  engine_power    fuel  \\\n",
       "0              2015              3.0           340  Бензин   \n",
       "1              2019              1.6            82  Бензин   \n",
       "2              2016              4.5           249  Дизель   \n",
       "3              1997              2.0           115  Бензин   \n",
       "4              2008              1.6           105  Бензин   \n",
       "\n",
       "                                                link  \n",
       "0  https://auto.ru/cars/used/sale/land_rover/rang...  \n",
       "1  https://auto.ru/cars/new/group/renault/logan/2...  \n",
       "2  https://auto.ru/cars/used/sale/toyota/land_cru...  \n",
       "3  https://auto.ru/cars/used/sale/subaru/legacy/1...  \n",
       "4  https://auto.ru/cars/used/sale/mazda/3/1094689...  "
      ]
     },
     "execution_count": 3,
     "metadata": {},
     "output_type": "execute_result"
    }
   ],
   "source": [
    "cars_df.head()"
   ]
  },
  {
   "cell_type": "markdown",
   "metadata": {},
   "source": [
    "#### Обработка пропусков"
   ]
  },
  {
   "cell_type": "code",
   "execution_count": 4,
   "metadata": {},
   "outputs": [
    {
     "name": "stdout",
     "output_type": "stream",
     "text": [
      "<class 'pandas.core.frame.DataFrame'>\n",
      "RangeIndex: 985 entries, 0 to 984\n",
      "Data columns (total 8 columns):\n",
      "car_model           985 non-null object\n",
      "price               985 non-null int64\n",
      "km_age              821 non-null float64\n",
      "manufacture_year    985 non-null int64\n",
      "engine_capacity     984 non-null float64\n",
      "engine_power        985 non-null int64\n",
      "fuel                985 non-null object\n",
      "link                985 non-null object\n",
      "dtypes: float64(2), int64(3), object(3)\n",
      "memory usage: 61.7+ KB\n"
     ]
    }
   ],
   "source": [
    "cars_df.info()"
   ]
  },
  {
   "cell_type": "markdown",
   "metadata": {},
   "source": [
    "Из общей информации о нашем наборе данных видим, присутствует признак `km_age`, у которого есть пропуски, а также `engine_capacity`, у которого только один пропуск.   \n",
    "\n",
    "И прежде чем заменять пропуски в `km_age` на медианные значения, давайте посмотрим, а какого года выпуска машины с отсутствием пробега. "
   ]
  },
  {
   "cell_type": "code",
   "execution_count": 5,
   "metadata": {},
   "outputs": [
    {
     "data": {
      "text/plain": [
       "2019    163\n",
       "2018      1\n",
       "Name: manufacture_year, dtype: int64"
      ]
     },
     "execution_count": 5,
     "metadata": {},
     "output_type": "execute_result"
    }
   ],
   "source": [
    "cars_df[cars_df['km_age'].isnull()]['manufacture_year'].value_counts()"
   ]
  },
  {
   "cell_type": "markdown",
   "metadata": {},
   "source": [
    "Видим, что 163 машины с пропуском пробега - это машины 2019 года выпуска и 1 - 2018. Это все новые машины для машины 2018 года убеждаемся найдя на ее ссылку и проверив на сайте). Поэтому давайте заменим имеющиеся пропуски на 0."
   ]
  },
  {
   "cell_type": "code",
   "execution_count": 6,
   "metadata": {},
   "outputs": [],
   "source": [
    "cars_df['km_age'].fillna(0, inplace=True)"
   ]
  },
  {
   "cell_type": "markdown",
   "metadata": {},
   "source": [
    "У признака `engine_capacity` всего 1 пропуск. Поэтому можем просто удалить эту машину из набора данных."
   ]
  },
  {
   "cell_type": "code",
   "execution_count": 7,
   "metadata": {},
   "outputs": [],
   "source": [
    "cars_df.dropna(inplace=True)"
   ]
  },
  {
   "cell_type": "code",
   "execution_count": 8,
   "metadata": {},
   "outputs": [
    {
     "name": "stdout",
     "output_type": "stream",
     "text": [
      "<class 'pandas.core.frame.DataFrame'>\n",
      "Int64Index: 984 entries, 0 to 984\n",
      "Data columns (total 8 columns):\n",
      "car_model           984 non-null object\n",
      "price               984 non-null int64\n",
      "km_age              984 non-null float64\n",
      "manufacture_year    984 non-null int64\n",
      "engine_capacity     984 non-null float64\n",
      "engine_power        984 non-null int64\n",
      "fuel                984 non-null object\n",
      "link                984 non-null object\n",
      "dtypes: float64(2), int64(3), object(3)\n",
      "memory usage: 69.2+ KB\n"
     ]
    }
   ],
   "source": [
    "cars_df.info() # теперь пропусков у нас не должно быть"
   ]
  },
  {
   "cell_type": "markdown",
   "metadata": {},
   "source": [
    "Давайте еще немного предобработаем наш датасет. Чтобы не работать с огромными числами, давайте преобразуем в другие единицы измерения следующие признаки: `price`, `km_age`. Пусть цена `price` будет измеряться в млн.руб (сейчас в руб.), `km_age` - в тыс.км. (сейчас в км). "
   ]
  },
  {
   "cell_type": "code",
   "execution_count": 9,
   "metadata": {},
   "outputs": [
    {
     "name": "stderr",
     "output_type": "stream",
     "text": [
      "D:\\Anaconda\\lib\\site-packages\\pandas\\compat\\_optional.py:106: UserWarning: Pandas requires version '2.6.2' or newer of 'numexpr' (version '2.5' currently installed).\n",
      "  warnings.warn(msg, UserWarning)\n"
     ]
    }
   ],
   "source": [
    "cars_df['price'] = cars_df['price']/1000000\n",
    "cars_df['km_age'] = cars_df['km_age']/1000"
   ]
  },
  {
   "cell_type": "markdown",
   "metadata": {},
   "source": [
    "У нас присутствует несколько категориальных признаков: `car_model`,`fuel` (признак `link` мы не будем использовать ни для кластеризации ни для регрессии. Это чисто справочный признак). Для признака `car_model` выполним **OneHotEncoding**, для признака `fuel` - **LabelEncoding**. Кроме этого **вручную выполним encoding** для признака `manufacture_age`.   \n",
    "Но прежде всего давайте предобработаем наш признак `car_model`. Для этого из всего названия марки машины вместе с серией и т.п (сейчас наш признак именно такой) извлечем только саму марку (**Chevrolet Cruze I Рестайлинг - > Chevrolet**)"
   ]
  },
  {
   "cell_type": "markdown",
   "metadata": {},
   "source": [
    "#### OneHotEncoding"
   ]
  },
  {
   "cell_type": "code",
   "execution_count": 10,
   "metadata": {},
   "outputs": [],
   "source": [
    "# преобразование Chevrolet Cruze I Рестайлинг - > Chevrolet\n",
    "cars_df['car_model'] = cars_df['car_model'].apply(lambda x: \" \".join(x.split(\" \")[:1]))"
   ]
  },
  {
   "cell_type": "markdown",
   "metadata": {},
   "source": [
    "В pandas есть встроенная возможность для OneHotEncoding **get_dummies** и она более удобная чем OneHotEncoding из sklearn"
   ]
  },
  {
   "cell_type": "code",
   "execution_count": 11,
   "metadata": {},
   "outputs": [],
   "source": [
    "cars_df = pd.get_dummies(cars_df, prefix_sep='_', columns=['car_model'], drop_first=True)"
   ]
  },
  {
   "cell_type": "code",
   "execution_count": 12,
   "metadata": {},
   "outputs": [
    {
     "data": {
      "text/html": [
       "<div>\n",
       "<style scoped>\n",
       "    .dataframe tbody tr th:only-of-type {\n",
       "        vertical-align: middle;\n",
       "    }\n",
       "\n",
       "    .dataframe tbody tr th {\n",
       "        vertical-align: top;\n",
       "    }\n",
       "\n",
       "    .dataframe thead th {\n",
       "        text-align: right;\n",
       "    }\n",
       "</style>\n",
       "<table border=\"1\" class=\"dataframe\">\n",
       "  <thead>\n",
       "    <tr style=\"text-align: right;\">\n",
       "      <th></th>\n",
       "      <th>price</th>\n",
       "      <th>km_age</th>\n",
       "      <th>manufacture_year</th>\n",
       "      <th>engine_capacity</th>\n",
       "      <th>engine_power</th>\n",
       "      <th>fuel</th>\n",
       "      <th>link</th>\n",
       "      <th>car_model_Audi</th>\n",
       "      <th>car_model_BMW</th>\n",
       "      <th>car_model_Bentley</th>\n",
       "      <th>...</th>\n",
       "      <th>car_model_Skoda</th>\n",
       "      <th>car_model_SsangYong</th>\n",
       "      <th>car_model_Subaru</th>\n",
       "      <th>car_model_Suzuki</th>\n",
       "      <th>car_model_Toyota</th>\n",
       "      <th>car_model_Volkswagen</th>\n",
       "      <th>car_model_Volvo</th>\n",
       "      <th>car_model_ГАЗ</th>\n",
       "      <th>car_model_ИЖ</th>\n",
       "      <th>car_model_УАЗ</th>\n",
       "    </tr>\n",
       "  </thead>\n",
       "  <tbody>\n",
       "    <tr>\n",
       "      <td>0</td>\n",
       "      <td>2.750000</td>\n",
       "      <td>129.5</td>\n",
       "      <td>2015</td>\n",
       "      <td>3.0</td>\n",
       "      <td>340</td>\n",
       "      <td>Бензин</td>\n",
       "      <td>https://auto.ru/cars/used/sale/land_rover/rang...</td>\n",
       "      <td>0</td>\n",
       "      <td>0</td>\n",
       "      <td>0</td>\n",
       "      <td>...</td>\n",
       "      <td>0</td>\n",
       "      <td>0</td>\n",
       "      <td>0</td>\n",
       "      <td>0</td>\n",
       "      <td>0</td>\n",
       "      <td>0</td>\n",
       "      <td>0</td>\n",
       "      <td>0</td>\n",
       "      <td>0</td>\n",
       "      <td>0</td>\n",
       "    </tr>\n",
       "    <tr>\n",
       "      <td>1</td>\n",
       "      <td>0.547745</td>\n",
       "      <td>0.0</td>\n",
       "      <td>2019</td>\n",
       "      <td>1.6</td>\n",
       "      <td>82</td>\n",
       "      <td>Бензин</td>\n",
       "      <td>https://auto.ru/cars/new/group/renault/logan/2...</td>\n",
       "      <td>0</td>\n",
       "      <td>0</td>\n",
       "      <td>0</td>\n",
       "      <td>...</td>\n",
       "      <td>0</td>\n",
       "      <td>0</td>\n",
       "      <td>0</td>\n",
       "      <td>0</td>\n",
       "      <td>0</td>\n",
       "      <td>0</td>\n",
       "      <td>0</td>\n",
       "      <td>0</td>\n",
       "      <td>0</td>\n",
       "      <td>0</td>\n",
       "    </tr>\n",
       "    <tr>\n",
       "      <td>2</td>\n",
       "      <td>3.500000</td>\n",
       "      <td>110.0</td>\n",
       "      <td>2016</td>\n",
       "      <td>4.5</td>\n",
       "      <td>249</td>\n",
       "      <td>Дизель</td>\n",
       "      <td>https://auto.ru/cars/used/sale/toyota/land_cru...</td>\n",
       "      <td>0</td>\n",
       "      <td>0</td>\n",
       "      <td>0</td>\n",
       "      <td>...</td>\n",
       "      <td>0</td>\n",
       "      <td>0</td>\n",
       "      <td>0</td>\n",
       "      <td>0</td>\n",
       "      <td>1</td>\n",
       "      <td>0</td>\n",
       "      <td>0</td>\n",
       "      <td>0</td>\n",
       "      <td>0</td>\n",
       "      <td>0</td>\n",
       "    </tr>\n",
       "    <tr>\n",
       "      <td>3</td>\n",
       "      <td>0.085000</td>\n",
       "      <td>280.0</td>\n",
       "      <td>1997</td>\n",
       "      <td>2.0</td>\n",
       "      <td>115</td>\n",
       "      <td>Бензин</td>\n",
       "      <td>https://auto.ru/cars/used/sale/subaru/legacy/1...</td>\n",
       "      <td>0</td>\n",
       "      <td>0</td>\n",
       "      <td>0</td>\n",
       "      <td>...</td>\n",
       "      <td>0</td>\n",
       "      <td>0</td>\n",
       "      <td>1</td>\n",
       "      <td>0</td>\n",
       "      <td>0</td>\n",
       "      <td>0</td>\n",
       "      <td>0</td>\n",
       "      <td>0</td>\n",
       "      <td>0</td>\n",
       "      <td>0</td>\n",
       "    </tr>\n",
       "    <tr>\n",
       "      <td>4</td>\n",
       "      <td>0.340000</td>\n",
       "      <td>144.0</td>\n",
       "      <td>2008</td>\n",
       "      <td>1.6</td>\n",
       "      <td>105</td>\n",
       "      <td>Бензин</td>\n",
       "      <td>https://auto.ru/cars/used/sale/mazda/3/1094689...</td>\n",
       "      <td>0</td>\n",
       "      <td>0</td>\n",
       "      <td>0</td>\n",
       "      <td>...</td>\n",
       "      <td>0</td>\n",
       "      <td>0</td>\n",
       "      <td>0</td>\n",
       "      <td>0</td>\n",
       "      <td>0</td>\n",
       "      <td>0</td>\n",
       "      <td>0</td>\n",
       "      <td>0</td>\n",
       "      <td>0</td>\n",
       "      <td>0</td>\n",
       "    </tr>\n",
       "  </tbody>\n",
       "</table>\n",
       "<p>5 rows × 52 columns</p>\n",
       "</div>"
      ],
      "text/plain": [
       "      price  km_age  manufacture_year  engine_capacity  engine_power    fuel  \\\n",
       "0  2.750000   129.5              2015              3.0           340  Бензин   \n",
       "1  0.547745     0.0              2019              1.6            82  Бензин   \n",
       "2  3.500000   110.0              2016              4.5           249  Дизель   \n",
       "3  0.085000   280.0              1997              2.0           115  Бензин   \n",
       "4  0.340000   144.0              2008              1.6           105  Бензин   \n",
       "\n",
       "                                                link  car_model_Audi  \\\n",
       "0  https://auto.ru/cars/used/sale/land_rover/rang...               0   \n",
       "1  https://auto.ru/cars/new/group/renault/logan/2...               0   \n",
       "2  https://auto.ru/cars/used/sale/toyota/land_cru...               0   \n",
       "3  https://auto.ru/cars/used/sale/subaru/legacy/1...               0   \n",
       "4  https://auto.ru/cars/used/sale/mazda/3/1094689...               0   \n",
       "\n",
       "   car_model_BMW  car_model_Bentley  ...  car_model_Skoda  \\\n",
       "0              0                  0  ...                0   \n",
       "1              0                  0  ...                0   \n",
       "2              0                  0  ...                0   \n",
       "3              0                  0  ...                0   \n",
       "4              0                  0  ...                0   \n",
       "\n",
       "   car_model_SsangYong  car_model_Subaru  car_model_Suzuki  car_model_Toyota  \\\n",
       "0                    0                 0                 0                 0   \n",
       "1                    0                 0                 0                 0   \n",
       "2                    0                 0                 0                 1   \n",
       "3                    0                 1                 0                 0   \n",
       "4                    0                 0                 0                 0   \n",
       "\n",
       "   car_model_Volkswagen  car_model_Volvo  car_model_ГАЗ  car_model_ИЖ  \\\n",
       "0                     0                0              0             0   \n",
       "1                     0                0              0             0   \n",
       "2                     0                0              0             0   \n",
       "3                     0                0              0             0   \n",
       "4                     0                0              0             0   \n",
       "\n",
       "   car_model_УАЗ  \n",
       "0              0  \n",
       "1              0  \n",
       "2              0  \n",
       "3              0  \n",
       "4              0  \n",
       "\n",
       "[5 rows x 52 columns]"
      ]
     },
     "execution_count": 12,
     "metadata": {},
     "output_type": "execute_result"
    }
   ],
   "source": [
    "cars_df.head()"
   ]
  },
  {
   "cell_type": "markdown",
   "metadata": {},
   "source": [
    "#### LabelEncoding"
   ]
  },
  {
   "cell_type": "markdown",
   "metadata": {},
   "source": [
    "Видим, что преобразование выполнилось успешно. Теперь сделаем **LabelEncoding** для признака `fuel`"
   ]
  },
  {
   "cell_type": "code",
   "execution_count": 13,
   "metadata": {},
   "outputs": [],
   "source": [
    "le = LabelEncoder()\n",
    "cars_df[['fuel']] = cars_df[['fuel']].apply(lambda col: le.fit_transform(col))"
   ]
  },
  {
   "cell_type": "markdown",
   "metadata": {},
   "source": [
    "Разделим теперь наш датасет на `X` - описание машины, которое будем использовать для прогнозирования и `Y` - целевой признак (в нашем случае это цена машины). "
   ]
  },
  {
   "cell_type": "code",
   "execution_count": 14,
   "metadata": {},
   "outputs": [],
   "source": [
    "links = cars_df['link']\n",
    "cars_df.drop('link', axis=1, inplace=True)"
   ]
  },
  {
   "cell_type": "code",
   "execution_count": 15,
   "metadata": {},
   "outputs": [],
   "source": [
    "X = cars_df.loc[:,'km_age':]\n",
    "Y = cars_df['price']"
   ]
  },
  {
   "cell_type": "code",
   "execution_count": 16,
   "metadata": {},
   "outputs": [
    {
     "data": {
      "text/html": [
       "<div>\n",
       "<style scoped>\n",
       "    .dataframe tbody tr th:only-of-type {\n",
       "        vertical-align: middle;\n",
       "    }\n",
       "\n",
       "    .dataframe tbody tr th {\n",
       "        vertical-align: top;\n",
       "    }\n",
       "\n",
       "    .dataframe thead th {\n",
       "        text-align: right;\n",
       "    }\n",
       "</style>\n",
       "<table border=\"1\" class=\"dataframe\">\n",
       "  <thead>\n",
       "    <tr style=\"text-align: right;\">\n",
       "      <th></th>\n",
       "      <th>km_age</th>\n",
       "      <th>manufacture_year</th>\n",
       "      <th>engine_capacity</th>\n",
       "      <th>engine_power</th>\n",
       "      <th>fuel</th>\n",
       "      <th>car_model_Audi</th>\n",
       "      <th>car_model_BMW</th>\n",
       "      <th>car_model_Bentley</th>\n",
       "      <th>car_model_Cadillac</th>\n",
       "      <th>car_model_Chery</th>\n",
       "      <th>...</th>\n",
       "      <th>car_model_Skoda</th>\n",
       "      <th>car_model_SsangYong</th>\n",
       "      <th>car_model_Subaru</th>\n",
       "      <th>car_model_Suzuki</th>\n",
       "      <th>car_model_Toyota</th>\n",
       "      <th>car_model_Volkswagen</th>\n",
       "      <th>car_model_Volvo</th>\n",
       "      <th>car_model_ГАЗ</th>\n",
       "      <th>car_model_ИЖ</th>\n",
       "      <th>car_model_УАЗ</th>\n",
       "    </tr>\n",
       "  </thead>\n",
       "  <tbody>\n",
       "    <tr>\n",
       "      <td>0</td>\n",
       "      <td>129.5</td>\n",
       "      <td>2015</td>\n",
       "      <td>3.0</td>\n",
       "      <td>340</td>\n",
       "      <td>0</td>\n",
       "      <td>0</td>\n",
       "      <td>0</td>\n",
       "      <td>0</td>\n",
       "      <td>0</td>\n",
       "      <td>0</td>\n",
       "      <td>...</td>\n",
       "      <td>0</td>\n",
       "      <td>0</td>\n",
       "      <td>0</td>\n",
       "      <td>0</td>\n",
       "      <td>0</td>\n",
       "      <td>0</td>\n",
       "      <td>0</td>\n",
       "      <td>0</td>\n",
       "      <td>0</td>\n",
       "      <td>0</td>\n",
       "    </tr>\n",
       "    <tr>\n",
       "      <td>1</td>\n",
       "      <td>0.0</td>\n",
       "      <td>2019</td>\n",
       "      <td>1.6</td>\n",
       "      <td>82</td>\n",
       "      <td>0</td>\n",
       "      <td>0</td>\n",
       "      <td>0</td>\n",
       "      <td>0</td>\n",
       "      <td>0</td>\n",
       "      <td>0</td>\n",
       "      <td>...</td>\n",
       "      <td>0</td>\n",
       "      <td>0</td>\n",
       "      <td>0</td>\n",
       "      <td>0</td>\n",
       "      <td>0</td>\n",
       "      <td>0</td>\n",
       "      <td>0</td>\n",
       "      <td>0</td>\n",
       "      <td>0</td>\n",
       "      <td>0</td>\n",
       "    </tr>\n",
       "    <tr>\n",
       "      <td>2</td>\n",
       "      <td>110.0</td>\n",
       "      <td>2016</td>\n",
       "      <td>4.5</td>\n",
       "      <td>249</td>\n",
       "      <td>2</td>\n",
       "      <td>0</td>\n",
       "      <td>0</td>\n",
       "      <td>0</td>\n",
       "      <td>0</td>\n",
       "      <td>0</td>\n",
       "      <td>...</td>\n",
       "      <td>0</td>\n",
       "      <td>0</td>\n",
       "      <td>0</td>\n",
       "      <td>0</td>\n",
       "      <td>1</td>\n",
       "      <td>0</td>\n",
       "      <td>0</td>\n",
       "      <td>0</td>\n",
       "      <td>0</td>\n",
       "      <td>0</td>\n",
       "    </tr>\n",
       "    <tr>\n",
       "      <td>3</td>\n",
       "      <td>280.0</td>\n",
       "      <td>1997</td>\n",
       "      <td>2.0</td>\n",
       "      <td>115</td>\n",
       "      <td>0</td>\n",
       "      <td>0</td>\n",
       "      <td>0</td>\n",
       "      <td>0</td>\n",
       "      <td>0</td>\n",
       "      <td>0</td>\n",
       "      <td>...</td>\n",
       "      <td>0</td>\n",
       "      <td>0</td>\n",
       "      <td>1</td>\n",
       "      <td>0</td>\n",
       "      <td>0</td>\n",
       "      <td>0</td>\n",
       "      <td>0</td>\n",
       "      <td>0</td>\n",
       "      <td>0</td>\n",
       "      <td>0</td>\n",
       "    </tr>\n",
       "    <tr>\n",
       "      <td>4</td>\n",
       "      <td>144.0</td>\n",
       "      <td>2008</td>\n",
       "      <td>1.6</td>\n",
       "      <td>105</td>\n",
       "      <td>0</td>\n",
       "      <td>0</td>\n",
       "      <td>0</td>\n",
       "      <td>0</td>\n",
       "      <td>0</td>\n",
       "      <td>0</td>\n",
       "      <td>...</td>\n",
       "      <td>0</td>\n",
       "      <td>0</td>\n",
       "      <td>0</td>\n",
       "      <td>0</td>\n",
       "      <td>0</td>\n",
       "      <td>0</td>\n",
       "      <td>0</td>\n",
       "      <td>0</td>\n",
       "      <td>0</td>\n",
       "      <td>0</td>\n",
       "    </tr>\n",
       "  </tbody>\n",
       "</table>\n",
       "<p>5 rows × 50 columns</p>\n",
       "</div>"
      ],
      "text/plain": [
       "   km_age  manufacture_year  engine_capacity  engine_power  fuel  \\\n",
       "0   129.5              2015              3.0           340     0   \n",
       "1     0.0              2019              1.6            82     0   \n",
       "2   110.0              2016              4.5           249     2   \n",
       "3   280.0              1997              2.0           115     0   \n",
       "4   144.0              2008              1.6           105     0   \n",
       "\n",
       "   car_model_Audi  car_model_BMW  car_model_Bentley  car_model_Cadillac  \\\n",
       "0               0              0                  0                   0   \n",
       "1               0              0                  0                   0   \n",
       "2               0              0                  0                   0   \n",
       "3               0              0                  0                   0   \n",
       "4               0              0                  0                   0   \n",
       "\n",
       "   car_model_Chery  ...  car_model_Skoda  car_model_SsangYong  \\\n",
       "0                0  ...                0                    0   \n",
       "1                0  ...                0                    0   \n",
       "2                0  ...                0                    0   \n",
       "3                0  ...                0                    0   \n",
       "4                0  ...                0                    0   \n",
       "\n",
       "   car_model_Subaru  car_model_Suzuki  car_model_Toyota  car_model_Volkswagen  \\\n",
       "0                 0                 0                 0                     0   \n",
       "1                 0                 0                 0                     0   \n",
       "2                 0                 0                 1                     0   \n",
       "3                 1                 0                 0                     0   \n",
       "4                 0                 0                 0                     0   \n",
       "\n",
       "   car_model_Volvo  car_model_ГАЗ  car_model_ИЖ  car_model_УАЗ  \n",
       "0                0              0             0              0  \n",
       "1                0              0             0              0  \n",
       "2                0              0             0              0  \n",
       "3                0              0             0              0  \n",
       "4                0              0             0              0  \n",
       "\n",
       "[5 rows x 50 columns]"
      ]
     },
     "execution_count": 16,
     "metadata": {},
     "output_type": "execute_result"
    }
   ],
   "source": [
    "X.head()"
   ]
  },
  {
   "cell_type": "markdown",
   "metadata": {},
   "source": [
    "#### Encoding вручную"
   ]
  },
  {
   "cell_type": "code",
   "execution_count": 17,
   "metadata": {},
   "outputs": [
    {
     "data": {
      "text/plain": [
       "array([1983, 1987, 1988, 1990, 1992, 1993, 1994, 1995, 1996, 1997, 1998,\n",
       "       1999, 2000, 2001, 2002, 2003, 2004, 2005, 2006, 2007, 2008, 2009,\n",
       "       2010, 2011, 2012, 2013, 2014, 2015, 2016, 2017, 2018, 2019],\n",
       "      dtype=int64)"
      ]
     },
     "execution_count": 17,
     "metadata": {},
     "output_type": "execute_result"
    }
   ],
   "source": [
    "X['manufacture_year'].sort_values().unique() # уникальные года"
   ]
  },
  {
   "cell_type": "markdown",
   "metadata": {},
   "source": [
    "В этом случае мы не будем для каждого года ставить свою метку. Мы будем смотреть в какой из заданных ранее диапазонов значение попало и ставить соответствующую метку.  \n",
    "\n",
    "\n",
    "Разобьем интервал с 1983 года по 2019 на следующие интервалы:\n",
    "- [1983, 1990]\n",
    "- [1991, 2000]\n",
    "- [2001, 2010]\n",
    "- [2011, 2019]"
   ]
  },
  {
   "cell_type": "code",
   "execution_count": 18,
   "metadata": {},
   "outputs": [],
   "source": [
    "def year_encoding(year):\n",
    "    if year<=1990:\n",
    "        return 0\n",
    "    elif year >= 1991 and year <= 2000:\n",
    "        return 1\n",
    "    elif year >=2001 and year <=2010:\n",
    "        return 2\n",
    "    return 3"
   ]
  },
  {
   "cell_type": "code",
   "execution_count": 19,
   "metadata": {},
   "outputs": [],
   "source": [
    "X['manufacture_year'] = X['manufacture_year'].apply(year_encoding)"
   ]
  },
  {
   "cell_type": "code",
   "execution_count": 20,
   "metadata": {},
   "outputs": [
    {
     "data": {
      "text/html": [
       "<div>\n",
       "<style scoped>\n",
       "    .dataframe tbody tr th:only-of-type {\n",
       "        vertical-align: middle;\n",
       "    }\n",
       "\n",
       "    .dataframe tbody tr th {\n",
       "        vertical-align: top;\n",
       "    }\n",
       "\n",
       "    .dataframe thead th {\n",
       "        text-align: right;\n",
       "    }\n",
       "</style>\n",
       "<table border=\"1\" class=\"dataframe\">\n",
       "  <thead>\n",
       "    <tr style=\"text-align: right;\">\n",
       "      <th></th>\n",
       "      <th>km_age</th>\n",
       "      <th>manufacture_year</th>\n",
       "      <th>engine_capacity</th>\n",
       "      <th>engine_power</th>\n",
       "      <th>fuel</th>\n",
       "      <th>car_model_Audi</th>\n",
       "      <th>car_model_BMW</th>\n",
       "      <th>car_model_Bentley</th>\n",
       "      <th>car_model_Cadillac</th>\n",
       "      <th>car_model_Chery</th>\n",
       "      <th>...</th>\n",
       "      <th>car_model_Skoda</th>\n",
       "      <th>car_model_SsangYong</th>\n",
       "      <th>car_model_Subaru</th>\n",
       "      <th>car_model_Suzuki</th>\n",
       "      <th>car_model_Toyota</th>\n",
       "      <th>car_model_Volkswagen</th>\n",
       "      <th>car_model_Volvo</th>\n",
       "      <th>car_model_ГАЗ</th>\n",
       "      <th>car_model_ИЖ</th>\n",
       "      <th>car_model_УАЗ</th>\n",
       "    </tr>\n",
       "  </thead>\n",
       "  <tbody>\n",
       "    <tr>\n",
       "      <td>0</td>\n",
       "      <td>129.5</td>\n",
       "      <td>3</td>\n",
       "      <td>3.0</td>\n",
       "      <td>340</td>\n",
       "      <td>0</td>\n",
       "      <td>0</td>\n",
       "      <td>0</td>\n",
       "      <td>0</td>\n",
       "      <td>0</td>\n",
       "      <td>0</td>\n",
       "      <td>...</td>\n",
       "      <td>0</td>\n",
       "      <td>0</td>\n",
       "      <td>0</td>\n",
       "      <td>0</td>\n",
       "      <td>0</td>\n",
       "      <td>0</td>\n",
       "      <td>0</td>\n",
       "      <td>0</td>\n",
       "      <td>0</td>\n",
       "      <td>0</td>\n",
       "    </tr>\n",
       "    <tr>\n",
       "      <td>1</td>\n",
       "      <td>0.0</td>\n",
       "      <td>3</td>\n",
       "      <td>1.6</td>\n",
       "      <td>82</td>\n",
       "      <td>0</td>\n",
       "      <td>0</td>\n",
       "      <td>0</td>\n",
       "      <td>0</td>\n",
       "      <td>0</td>\n",
       "      <td>0</td>\n",
       "      <td>...</td>\n",
       "      <td>0</td>\n",
       "      <td>0</td>\n",
       "      <td>0</td>\n",
       "      <td>0</td>\n",
       "      <td>0</td>\n",
       "      <td>0</td>\n",
       "      <td>0</td>\n",
       "      <td>0</td>\n",
       "      <td>0</td>\n",
       "      <td>0</td>\n",
       "    </tr>\n",
       "    <tr>\n",
       "      <td>2</td>\n",
       "      <td>110.0</td>\n",
       "      <td>3</td>\n",
       "      <td>4.5</td>\n",
       "      <td>249</td>\n",
       "      <td>2</td>\n",
       "      <td>0</td>\n",
       "      <td>0</td>\n",
       "      <td>0</td>\n",
       "      <td>0</td>\n",
       "      <td>0</td>\n",
       "      <td>...</td>\n",
       "      <td>0</td>\n",
       "      <td>0</td>\n",
       "      <td>0</td>\n",
       "      <td>0</td>\n",
       "      <td>1</td>\n",
       "      <td>0</td>\n",
       "      <td>0</td>\n",
       "      <td>0</td>\n",
       "      <td>0</td>\n",
       "      <td>0</td>\n",
       "    </tr>\n",
       "    <tr>\n",
       "      <td>3</td>\n",
       "      <td>280.0</td>\n",
       "      <td>1</td>\n",
       "      <td>2.0</td>\n",
       "      <td>115</td>\n",
       "      <td>0</td>\n",
       "      <td>0</td>\n",
       "      <td>0</td>\n",
       "      <td>0</td>\n",
       "      <td>0</td>\n",
       "      <td>0</td>\n",
       "      <td>...</td>\n",
       "      <td>0</td>\n",
       "      <td>0</td>\n",
       "      <td>1</td>\n",
       "      <td>0</td>\n",
       "      <td>0</td>\n",
       "      <td>0</td>\n",
       "      <td>0</td>\n",
       "      <td>0</td>\n",
       "      <td>0</td>\n",
       "      <td>0</td>\n",
       "    </tr>\n",
       "    <tr>\n",
       "      <td>4</td>\n",
       "      <td>144.0</td>\n",
       "      <td>2</td>\n",
       "      <td>1.6</td>\n",
       "      <td>105</td>\n",
       "      <td>0</td>\n",
       "      <td>0</td>\n",
       "      <td>0</td>\n",
       "      <td>0</td>\n",
       "      <td>0</td>\n",
       "      <td>0</td>\n",
       "      <td>...</td>\n",
       "      <td>0</td>\n",
       "      <td>0</td>\n",
       "      <td>0</td>\n",
       "      <td>0</td>\n",
       "      <td>0</td>\n",
       "      <td>0</td>\n",
       "      <td>0</td>\n",
       "      <td>0</td>\n",
       "      <td>0</td>\n",
       "      <td>0</td>\n",
       "    </tr>\n",
       "  </tbody>\n",
       "</table>\n",
       "<p>5 rows × 50 columns</p>\n",
       "</div>"
      ],
      "text/plain": [
       "   km_age  manufacture_year  engine_capacity  engine_power  fuel  \\\n",
       "0   129.5                 3              3.0           340     0   \n",
       "1     0.0                 3              1.6            82     0   \n",
       "2   110.0                 3              4.5           249     2   \n",
       "3   280.0                 1              2.0           115     0   \n",
       "4   144.0                 2              1.6           105     0   \n",
       "\n",
       "   car_model_Audi  car_model_BMW  car_model_Bentley  car_model_Cadillac  \\\n",
       "0               0              0                  0                   0   \n",
       "1               0              0                  0                   0   \n",
       "2               0              0                  0                   0   \n",
       "3               0              0                  0                   0   \n",
       "4               0              0                  0                   0   \n",
       "\n",
       "   car_model_Chery  ...  car_model_Skoda  car_model_SsangYong  \\\n",
       "0                0  ...                0                    0   \n",
       "1                0  ...                0                    0   \n",
       "2                0  ...                0                    0   \n",
       "3                0  ...                0                    0   \n",
       "4                0  ...                0                    0   \n",
       "\n",
       "   car_model_Subaru  car_model_Suzuki  car_model_Toyota  car_model_Volkswagen  \\\n",
       "0                 0                 0                 0                     0   \n",
       "1                 0                 0                 0                     0   \n",
       "2                 0                 0                 1                     0   \n",
       "3                 1                 0                 0                     0   \n",
       "4                 0                 0                 0                     0   \n",
       "\n",
       "   car_model_Volvo  car_model_ГАЗ  car_model_ИЖ  car_model_УАЗ  \n",
       "0                0              0             0              0  \n",
       "1                0              0             0              0  \n",
       "2                0              0             0              0  \n",
       "3                0              0             0              0  \n",
       "4                0              0             0              0  \n",
       "\n",
       "[5 rows x 50 columns]"
      ]
     },
     "execution_count": 20,
     "metadata": {},
     "output_type": "execute_result"
    }
   ],
   "source": [
    "X.head()"
   ]
  },
  {
   "cell_type": "markdown",
   "metadata": {},
   "source": [
    "#### Нормализация вещественных признаков\n",
    "Посмотрим на разброс вещественных признаков"
   ]
  },
  {
   "cell_type": "code",
   "execution_count": 21,
   "metadata": {},
   "outputs": [],
   "source": [
    "real_cols = ['km_age', 'engine_capacity', 'engine_power']"
   ]
  },
  {
   "cell_type": "code",
   "execution_count": 22,
   "metadata": {},
   "outputs": [
    {
     "data": {
      "text/plain": [
       "<matplotlib.axes._subplots.AxesSubplot at 0x28f0460eda0>"
      ]
     },
     "execution_count": 22,
     "metadata": {},
     "output_type": "execute_result"
    },
    {
     "data": {
      "image/png": "[encoded data removed]",
      "text/plain": [
       "<Figure size 432x288 with 1 Axes>"
      ]
     },
     "metadata": {
      "needs_background": "light"
     },
     "output_type": "display_data"
    }
   ],
   "source": [
    "X[real_cols].boxplot()"
   ]
  },
  {
   "cell_type": "markdown",
   "metadata": {},
   "source": [
    "Видим, что признаки `km_age` , `engine_power` имеют достаточно большой разброс по сравнению с `engine_capacity`. Поэтому давайте выполним нормализацию данных признаков    \n",
    "**ЗАМЕЧАНИЕ** Большой разброс значений у одних признаков и маленький у других может негативно сказаться на качестве модели"
   ]
  },
  {
   "cell_type": "code",
   "execution_count": 23,
   "metadata": {},
   "outputs": [],
   "source": [
    "X[real_cols] = StandardScaler().fit_transform(X[real_cols])"
   ]
  },
  {
   "cell_type": "code",
   "execution_count": 24,
   "metadata": {},
   "outputs": [
    {
     "data": {
      "text/plain": [
       "<matplotlib.axes._subplots.AxesSubplot at 0x28f046a8780>"
      ]
     },
     "execution_count": 24,
     "metadata": {},
     "output_type": "execute_result"
    },
    {
     "data": {
      "image/png": "[encoded data removed]",
      "text/plain": [
       "<Figure size 432x288 with 1 Axes>"
      ]
     },
     "metadata": {
      "needs_background": "light"
     },
     "output_type": "display_data"
    }
   ],
   "source": [
    "X[real_cols].boxplot() #разброс после стандартизации"
   ]
  },
  {
   "cell_type": "markdown",
   "metadata": {},
   "source": [
    "Построим также корреляционную матрицу"
   ]
  },
  {
   "cell_type": "code",
   "execution_count": 26,
   "metadata": {},
   "outputs": [
    {
     "data": {
      "text/plain": [
       "<matplotlib.axes._subplots.AxesSubplot at 0x28f047d6fd0>"
      ]
     },
     "execution_count": 26,
     "metadata": {},
     "output_type": "execute_result"
    },
    {
     "data": {
      "image/png": "[encoded data removed]",
      "text/plain": [
       "<Figure size 720x576 with 2 Axes>"
      ]
     },
     "metadata": {
      "needs_background": "light"
     },
     "output_type": "display_data"
    }
   ],
   "source": [
    "f, ax = plt.subplots(figsize=(10, 8))\n",
    "corr = X.corr()\n",
    "sns.heatmap(corr, mask=np.zeros_like(corr, dtype=np.bool), cmap=sns.diverging_palette(220, 10, as_cmap=True),\n",
    "            square=True, ax=ax)"
   ]
  },
  {
   "cell_type": "markdown",
   "metadata": {},
   "source": [
    "Видим достаточно сильную корреляцию между топливом и машиной BMW. Наверное большинство машин BMW из нашего датасета используют только один тип топлива"
   ]
  },
  {
   "cell_type": "markdown",
   "metadata": {},
   "source": [
    "Теперь наши данные готовы для кластеризации и построения предиктивной модели"
   ]
  },
  {
   "cell_type": "markdown",
   "metadata": {},
   "source": [
    "# Кластеризация\n",
    "\n",
    "В качестве алгоритма кластеризации возьмем алгоритм K-means. А оптимальное количество кластеров будем подбирать используя ``критерий каменистой осыпи``. В качестве метрики качества кластеризации будем считать суммарное межкластерное расстояние (**WCSS**)"
   ]
  },
  {
   "cell_type": "code",
   "execution_count": 25,
   "metadata": {},
   "outputs": [
    {
     "data": {
      "image/png": "[encoded data removed]",
      "text/plain": [
       "<Figure size 432x288 with 1 Axes>"
      ]
     },
     "metadata": {
      "needs_background": "light"
     },
     "output_type": "display_data"
    }
   ],
   "source": [
    "wcss = []\n",
    "MAX_N_CLUSTERS = 15\n",
    "for n_clusters in range(2, MAX_N_CLUSTERS):\n",
    "    kmeans = KMeans(n_clusters=n_clusters, n_init=10, init='k-means++', max_iter=800, random_state=RANDOM_STATE)\n",
    "    kmeans.fit(X)\n",
    "    wcss.append(kmeans.inertia_)\n",
    "plt.plot(range(2, MAX_N_CLUSTERS), wcss)\n",
    "plt.xlabel('Количество кластеров')\n",
    "plt.ylabel('WSCC')\n",
    "plt.show()"
   ]
  },
  {
   "cell_type": "code",
   "execution_count": 26,
   "metadata": {},
   "outputs": [],
   "source": [
    "n_clusters = 4"
   ]
  },
  {
   "cell_type": "markdown",
   "metadata": {},
   "source": [
    "По критерию каменистой осыпи - оптимальное количество кластеров равно 3   \n",
    "\n",
    "\n",
    "Выполним кластеризацию с оптимальным количеством кластеров и визуализируем наши кластеры"
   ]
  },
  {
   "cell_type": "code",
   "execution_count": 27,
   "metadata": {},
   "outputs": [
    {
     "data": {
      "text/plain": [
       "KMeans(copy_x=True, init='k-means++', max_iter=800, n_clusters=4, n_init=10,\n",
       "    n_jobs=1, precompute_distances='auto', random_state=32, tol=0.0001,\n",
       "    verbose=0)"
      ]
     },
     "execution_count": 27,
     "metadata": {},
     "output_type": "execute_result"
    }
   ],
   "source": [
    "kmeans = KMeans(n_clusters=n_clusters, init='k-means++', max_iter=800, random_state=RANDOM_STATE)\n",
    "kmeans.fit(X)"
   ]
  },
  {
   "cell_type": "markdown",
   "metadata": {},
   "source": [
    "Для того, чтобы визуализировать наши кластеры необходимо сначала снизить размерность наших данных. Для этого будем использовать метод главных компонент."
   ]
  },
  {
   "cell_type": "code",
   "execution_count": 28,
   "metadata": {},
   "outputs": [],
   "source": [
    "pca = decomposition.PCA(n_components=2)\n",
    "X_pca  = pca.fit_transform(X)"
   ]
  },
  {
   "cell_type": "code",
   "execution_count": 29,
   "metadata": {},
   "outputs": [
    {
     "data": {
      "text/plain": [
       "Text(0, 0.5, 'Вторая главная компонента')"
      ]
     },
     "execution_count": 29,
     "metadata": {},
     "output_type": "execute_result"
    },
    {
     "data": {
      "image/png": "[encoded data removed]",
      "text/plain": [
       "<Figure size 432x288 with 1 Axes>"
      ]
     },
     "metadata": {
      "needs_background": "light"
     },
     "output_type": "display_data"
    }
   ],
   "source": [
    "#отрисовываем кластеры\n",
    "labels = kmeans.labels_\n",
    "plt.plot(X_pca[labels == 0, 0], X_pca[labels == 0, 1], 'ro', label='Cluster 1')\n",
    "plt.plot(X_pca[labels == 1, 0], X_pca[labels == 1, 1], 'go', label='Cluster 2')\n",
    "plt.plot(X_pca[labels == 2, 0], X_pca[labels == 2, 1], 'co', label='Cluster 3')\n",
    "plt.plot(X_pca[labels == 3, 0], X_pca[labels == 3, 1], 'bo', label='Cluster 4')\n",
    "plt.legend()\n",
    "plt.xlabel('Первая главная комнонта')\n",
    "plt.ylabel('Вторая главная компонента')"
   ]
  },
  {
   "cell_type": "markdown",
   "metadata": {},
   "source": [
    "Видно, что проекции кластеров достаточно сильно накладываются друг на друга. Исходя из этой визуализации можно увидеть, что объекты 3 кластера имеют большее значение по первой компоненте, объекты 1 кластера - по второй, а объекты 2 и 4 кластеров - примерно одинаковые значения по каждой из компонент. Для более детального понимания кластеров давайте рассмотреть матрицу нагрузок, которая покажет нам, какие из признаков больше всего вносят вклад в первую компоненту, а какие во вторую"
   ]
  },
  {
   "cell_type": "code",
   "execution_count": 30,
   "metadata": {},
   "outputs": [
    {
     "data": {
      "text/plain": [
       "array([[-0. ,  0.1,  0.7,  0.7,  0.2,  0. ,  0. ,  0. ,  0. , -0. , -0. ,\n",
       "         0. , -0. , -0. , -0. , -0. , -0. , -0. , -0. , -0. , -0. , -0. ,\n",
       "         0. ,  0. ,  0. , -0. , -0.1,  0. ,  0. , -0. ,  0. , -0. ,  0. ,\n",
       "         0. , -0. , -0. , -0. ,  0. , -0. , -0. , -0. ,  0. , -0. , -0. ,\n",
       "         0. , -0. ,  0. , -0. , -0. ,  0. ],\n",
       "       [-0.9,  0.4, -0.1,  0. ,  0. ,  0. , -0. ,  0. , -0. ,  0. , -0. ,\n",
       "        -0. , -0. , -0. , -0. , -0. , -0. , -0. , -0. ,  0. , -0. , -0. ,\n",
       "         0. ,  0. , -0. ,  0. ,  0. ,  0. , -0. ,  0. ,  0. , -0. , -0. ,\n",
       "         0. , -0. , -0. , -0. ,  0. ,  0. ,  0. ,  0. , -0. , -0. , -0. ,\n",
       "        -0. ,  0. , -0. , -0. , -0. ,  0. ]])"
      ]
     },
     "execution_count": 30,
     "metadata": {},
     "output_type": "execute_result"
    }
   ],
   "source": [
    "np.round(pca.components_, 1) "
   ]
  },
  {
   "cell_type": "markdown",
   "metadata": {},
   "source": [
    "Видим, что значения первой компоненты в основном определяется признаками 3 и 4 (`engine_capacity` и `engine_power`), а второй компоненты - признаками 1 и 2 (`km_age`,`manufacture_age`). Исходя из этого можем предположить, что машины были разбиты на кластеры исходя из показателей двигателя и изношенности машины.  \n",
    "\n",
    "Посмотрим также на сами машины по каждому кластеру, а точнее на статистику по признакам, которые мы указали выше"
   ]
  },
  {
   "cell_type": "code",
   "execution_count": 31,
   "metadata": {},
   "outputs": [
    {
     "data": {
      "text/html": [
       "<div>\n",
       "<style scoped>\n",
       "    .dataframe tbody tr th:only-of-type {\n",
       "        vertical-align: middle;\n",
       "    }\n",
       "\n",
       "    .dataframe tbody tr th {\n",
       "        vertical-align: top;\n",
       "    }\n",
       "\n",
       "    .dataframe thead th {\n",
       "        text-align: right;\n",
       "    }\n",
       "</style>\n",
       "<table border=\"1\" class=\"dataframe\">\n",
       "  <thead>\n",
       "    <tr style=\"text-align: right;\">\n",
       "      <th></th>\n",
       "      <th>km_age</th>\n",
       "      <th>manufacture_year</th>\n",
       "      <th>engine_capacity</th>\n",
       "      <th>engine_power</th>\n",
       "    </tr>\n",
       "  </thead>\n",
       "  <tbody>\n",
       "    <tr>\n",
       "      <td>count</td>\n",
       "      <td>290.000000</td>\n",
       "      <td>290.000000</td>\n",
       "      <td>290.000000</td>\n",
       "      <td>290.000000</td>\n",
       "    </tr>\n",
       "    <tr>\n",
       "      <td>mean</td>\n",
       "      <td>179.178852</td>\n",
       "      <td>2006.703448</td>\n",
       "      <td>1.827586</td>\n",
       "      <td>126.731034</td>\n",
       "    </tr>\n",
       "    <tr>\n",
       "      <td>std</td>\n",
       "      <td>65.283770</td>\n",
       "      <td>4.627470</td>\n",
       "      <td>0.405069</td>\n",
       "      <td>42.396506</td>\n",
       "    </tr>\n",
       "    <tr>\n",
       "      <td>min</td>\n",
       "      <td>46.410000</td>\n",
       "      <td>1983.000000</td>\n",
       "      <td>0.800000</td>\n",
       "      <td>52.000000</td>\n",
       "    </tr>\n",
       "    <tr>\n",
       "      <td>25%</td>\n",
       "      <td>137.743500</td>\n",
       "      <td>2005.000000</td>\n",
       "      <td>1.600000</td>\n",
       "      <td>97.000000</td>\n",
       "    </tr>\n",
       "    <tr>\n",
       "      <td>50%</td>\n",
       "      <td>161.192000</td>\n",
       "      <td>2008.000000</td>\n",
       "      <td>1.700000</td>\n",
       "      <td>120.000000</td>\n",
       "    </tr>\n",
       "    <tr>\n",
       "      <td>75%</td>\n",
       "      <td>204.000000</td>\n",
       "      <td>2010.000000</td>\n",
       "      <td>2.000000</td>\n",
       "      <td>147.000000</td>\n",
       "    </tr>\n",
       "    <tr>\n",
       "      <td>max</td>\n",
       "      <td>465.000000</td>\n",
       "      <td>2017.000000</td>\n",
       "      <td>3.000000</td>\n",
       "      <td>260.000000</td>\n",
       "    </tr>\n",
       "  </tbody>\n",
       "</table>\n",
       "</div>"
      ],
      "text/plain": [
       "           km_age  manufacture_year  engine_capacity  engine_power\n",
       "count  290.000000        290.000000       290.000000    290.000000\n",
       "mean   179.178852       2006.703448         1.827586    126.731034\n",
       "std     65.283770          4.627470         0.405069     42.396506\n",
       "min     46.410000       1983.000000         0.800000     52.000000\n",
       "25%    137.743500       2005.000000         1.600000     97.000000\n",
       "50%    161.192000       2008.000000         1.700000    120.000000\n",
       "75%    204.000000       2010.000000         2.000000    147.000000\n",
       "max    465.000000       2017.000000         3.000000    260.000000"
      ]
     },
     "execution_count": 31,
     "metadata": {},
     "output_type": "execute_result"
    }
   ],
   "source": [
    "# кластер 1 (красный)\n",
    "cols = ['km_age', 'manufacture_year', 'engine_capacity', 'engine_power']\n",
    "cars_df.loc[kmeans.labels_ == 0, cols].describe()"
   ]
  },
  {
   "cell_type": "markdown",
   "metadata": {},
   "source": [
    "В первый кластер входят машины, проехавшие в среднем больше других"
   ]
  },
  {
   "cell_type": "code",
   "execution_count": 32,
   "metadata": {},
   "outputs": [
    {
     "data": {
      "text/html": [
       "<div>\n",
       "<style scoped>\n",
       "    .dataframe tbody tr th:only-of-type {\n",
       "        vertical-align: middle;\n",
       "    }\n",
       "\n",
       "    .dataframe tbody tr th {\n",
       "        vertical-align: top;\n",
       "    }\n",
       "\n",
       "    .dataframe thead th {\n",
       "        text-align: right;\n",
       "    }\n",
       "</style>\n",
       "<table border=\"1\" class=\"dataframe\">\n",
       "  <thead>\n",
       "    <tr style=\"text-align: right;\">\n",
       "      <th></th>\n",
       "      <th>km_age</th>\n",
       "      <th>manufacture_year</th>\n",
       "      <th>engine_capacity</th>\n",
       "      <th>engine_power</th>\n",
       "    </tr>\n",
       "  </thead>\n",
       "  <tbody>\n",
       "    <tr>\n",
       "      <td>count</td>\n",
       "      <td>451.000000</td>\n",
       "      <td>451.000000</td>\n",
       "      <td>451.000000</td>\n",
       "      <td>451.000000</td>\n",
       "    </tr>\n",
       "    <tr>\n",
       "      <td>mean</td>\n",
       "      <td>52.618965</td>\n",
       "      <td>2015.161863</td>\n",
       "      <td>1.775831</td>\n",
       "      <td>133.044346</td>\n",
       "    </tr>\n",
       "    <tr>\n",
       "      <td>std</td>\n",
       "      <td>43.963954</td>\n",
       "      <td>3.623131</td>\n",
       "      <td>0.331148</td>\n",
       "      <td>38.602507</td>\n",
       "    </tr>\n",
       "    <tr>\n",
       "      <td>min</td>\n",
       "      <td>0.000000</td>\n",
       "      <td>1994.000000</td>\n",
       "      <td>0.800000</td>\n",
       "      <td>33.000000</td>\n",
       "    </tr>\n",
       "    <tr>\n",
       "      <td>25%</td>\n",
       "      <td>0.000000</td>\n",
       "      <td>2013.000000</td>\n",
       "      <td>1.600000</td>\n",
       "      <td>106.000000</td>\n",
       "    </tr>\n",
       "    <tr>\n",
       "      <td>50%</td>\n",
       "      <td>53.300000</td>\n",
       "      <td>2015.000000</td>\n",
       "      <td>1.600000</td>\n",
       "      <td>126.000000</td>\n",
       "    </tr>\n",
       "    <tr>\n",
       "      <td>75%</td>\n",
       "      <td>90.032500</td>\n",
       "      <td>2019.000000</td>\n",
       "      <td>2.000000</td>\n",
       "      <td>150.000000</td>\n",
       "    </tr>\n",
       "    <tr>\n",
       "      <td>max</td>\n",
       "      <td>137.540000</td>\n",
       "      <td>2019.000000</td>\n",
       "      <td>3.000000</td>\n",
       "      <td>252.000000</td>\n",
       "    </tr>\n",
       "  </tbody>\n",
       "</table>\n",
       "</div>"
      ],
      "text/plain": [
       "           km_age  manufacture_year  engine_capacity  engine_power\n",
       "count  451.000000        451.000000       451.000000    451.000000\n",
       "mean    52.618965       2015.161863         1.775831    133.044346\n",
       "std     43.963954          3.623131         0.331148     38.602507\n",
       "min      0.000000       1994.000000         0.800000     33.000000\n",
       "25%      0.000000       2013.000000         1.600000    106.000000\n",
       "50%     53.300000       2015.000000         1.600000    126.000000\n",
       "75%     90.032500       2019.000000         2.000000    150.000000\n",
       "max    137.540000       2019.000000         3.000000    252.000000"
      ]
     },
     "execution_count": 32,
     "metadata": {},
     "output_type": "execute_result"
    }
   ],
   "source": [
    "# кластер 2 (зеленый)\n",
    "cars_df.loc[kmeans.labels_ == 1, cols].describe()"
   ]
  },
  {
   "cell_type": "markdown",
   "metadata": {},
   "source": [
    "Во второй кластер входят самые слабые по мощности и объему бака машины и проехавшие в среднем меньше других."
   ]
  },
  {
   "cell_type": "code",
   "execution_count": 33,
   "metadata": {},
   "outputs": [
    {
     "data": {
      "text/html": [
       "<div>\n",
       "<style scoped>\n",
       "    .dataframe tbody tr th:only-of-type {\n",
       "        vertical-align: middle;\n",
       "    }\n",
       "\n",
       "    .dataframe tbody tr th {\n",
       "        vertical-align: top;\n",
       "    }\n",
       "\n",
       "    .dataframe thead th {\n",
       "        text-align: right;\n",
       "    }\n",
       "</style>\n",
       "<table border=\"1\" class=\"dataframe\">\n",
       "  <thead>\n",
       "    <tr style=\"text-align: right;\">\n",
       "      <th></th>\n",
       "      <th>km_age</th>\n",
       "      <th>manufacture_year</th>\n",
       "      <th>engine_capacity</th>\n",
       "      <th>engine_power</th>\n",
       "    </tr>\n",
       "  </thead>\n",
       "  <tbody>\n",
       "    <tr>\n",
       "      <td>count</td>\n",
       "      <td>100.000000</td>\n",
       "      <td>100.000000</td>\n",
       "      <td>100.000000</td>\n",
       "      <td>100.000000</td>\n",
       "    </tr>\n",
       "    <tr>\n",
       "      <td>mean</td>\n",
       "      <td>107.210880</td>\n",
       "      <td>2012.330000</td>\n",
       "      <td>3.977000</td>\n",
       "      <td>326.230000</td>\n",
       "    </tr>\n",
       "    <tr>\n",
       "      <td>std</td>\n",
       "      <td>69.162995</td>\n",
       "      <td>3.918501</td>\n",
       "      <td>0.885786</td>\n",
       "      <td>87.026741</td>\n",
       "    </tr>\n",
       "    <tr>\n",
       "      <td>min</td>\n",
       "      <td>0.000000</td>\n",
       "      <td>2003.000000</td>\n",
       "      <td>3.000000</td>\n",
       "      <td>202.000000</td>\n",
       "    </tr>\n",
       "    <tr>\n",
       "      <td>25%</td>\n",
       "      <td>63.350000</td>\n",
       "      <td>2010.000000</td>\n",
       "      <td>3.500000</td>\n",
       "      <td>249.750000</td>\n",
       "    </tr>\n",
       "    <tr>\n",
       "      <td>50%</td>\n",
       "      <td>101.750000</td>\n",
       "      <td>2012.000000</td>\n",
       "      <td>3.600000</td>\n",
       "      <td>306.000000</td>\n",
       "    </tr>\n",
       "    <tr>\n",
       "      <td>75%</td>\n",
       "      <td>154.250000</td>\n",
       "      <td>2015.000000</td>\n",
       "      <td>4.500000</td>\n",
       "      <td>367.000000</td>\n",
       "    </tr>\n",
       "    <tr>\n",
       "      <td>max</td>\n",
       "      <td>362.646000</td>\n",
       "      <td>2019.000000</td>\n",
       "      <td>6.200000</td>\n",
       "      <td>585.000000</td>\n",
       "    </tr>\n",
       "  </tbody>\n",
       "</table>\n",
       "</div>"
      ],
      "text/plain": [
       "           km_age  manufacture_year  engine_capacity  engine_power\n",
       "count  100.000000        100.000000       100.000000    100.000000\n",
       "mean   107.210880       2012.330000         3.977000    326.230000\n",
       "std     69.162995          3.918501         0.885786     87.026741\n",
       "min      0.000000       2003.000000         3.000000    202.000000\n",
       "25%     63.350000       2010.000000         3.500000    249.750000\n",
       "50%    101.750000       2012.000000         3.600000    306.000000\n",
       "75%    154.250000       2015.000000         4.500000    367.000000\n",
       "max    362.646000       2019.000000         6.200000    585.000000"
      ]
     },
     "execution_count": 33,
     "metadata": {},
     "output_type": "execute_result"
    }
   ],
   "source": [
    "# кластер 3 (голубой)\n",
    "cars_df.loc[kmeans.labels_ == 2, cols].describe()"
   ]
  },
  {
   "cell_type": "markdown",
   "metadata": {},
   "source": [
    "Действительно, в 3 кластер входят машины с большим объемом бака и мощностью двигателя"
   ]
  },
  {
   "cell_type": "code",
   "execution_count": 34,
   "metadata": {},
   "outputs": [
    {
     "data": {
      "text/html": [
       "<div>\n",
       "<style scoped>\n",
       "    .dataframe tbody tr th:only-of-type {\n",
       "        vertical-align: middle;\n",
       "    }\n",
       "\n",
       "    .dataframe tbody tr th {\n",
       "        vertical-align: top;\n",
       "    }\n",
       "\n",
       "    .dataframe thead th {\n",
       "        text-align: right;\n",
       "    }\n",
       "</style>\n",
       "<table border=\"1\" class=\"dataframe\">\n",
       "  <thead>\n",
       "    <tr style=\"text-align: right;\">\n",
       "      <th></th>\n",
       "      <th>km_age</th>\n",
       "      <th>manufacture_year</th>\n",
       "      <th>engine_capacity</th>\n",
       "      <th>engine_power</th>\n",
       "    </tr>\n",
       "  </thead>\n",
       "  <tbody>\n",
       "    <tr>\n",
       "      <td>count</td>\n",
       "      <td>143.000000</td>\n",
       "      <td>143.000000</td>\n",
       "      <td>143.000000</td>\n",
       "      <td>143.000000</td>\n",
       "    </tr>\n",
       "    <tr>\n",
       "      <td>mean</td>\n",
       "      <td>76.103182</td>\n",
       "      <td>2014.328671</td>\n",
       "      <td>2.548252</td>\n",
       "      <td>200.867133</td>\n",
       "    </tr>\n",
       "    <tr>\n",
       "      <td>std</td>\n",
       "      <td>61.653894</td>\n",
       "      <td>3.949998</td>\n",
       "      <td>0.458235</td>\n",
       "      <td>51.204263</td>\n",
       "    </tr>\n",
       "    <tr>\n",
       "      <td>min</td>\n",
       "      <td>0.000000</td>\n",
       "      <td>2004.000000</td>\n",
       "      <td>1.500000</td>\n",
       "      <td>102.000000</td>\n",
       "    </tr>\n",
       "    <tr>\n",
       "      <td>25%</td>\n",
       "      <td>10.263500</td>\n",
       "      <td>2011.500000</td>\n",
       "      <td>2.100000</td>\n",
       "      <td>165.000000</td>\n",
       "    </tr>\n",
       "    <tr>\n",
       "      <td>50%</td>\n",
       "      <td>70.000000</td>\n",
       "      <td>2015.000000</td>\n",
       "      <td>2.500000</td>\n",
       "      <td>190.000000</td>\n",
       "    </tr>\n",
       "    <tr>\n",
       "      <td>75%</td>\n",
       "      <td>125.606000</td>\n",
       "      <td>2018.000000</td>\n",
       "      <td>3.000000</td>\n",
       "      <td>249.000000</td>\n",
       "    </tr>\n",
       "    <tr>\n",
       "      <td>max</td>\n",
       "      <td>188.000000</td>\n",
       "      <td>2019.000000</td>\n",
       "      <td>3.600000</td>\n",
       "      <td>381.000000</td>\n",
       "    </tr>\n",
       "  </tbody>\n",
       "</table>\n",
       "</div>"
      ],
      "text/plain": [
       "           km_age  manufacture_year  engine_capacity  engine_power\n",
       "count  143.000000        143.000000       143.000000    143.000000\n",
       "mean    76.103182       2014.328671         2.548252    200.867133\n",
       "std     61.653894          3.949998         0.458235     51.204263\n",
       "min      0.000000       2004.000000         1.500000    102.000000\n",
       "25%     10.263500       2011.500000         2.100000    165.000000\n",
       "50%     70.000000       2015.000000         2.500000    190.000000\n",
       "75%    125.606000       2018.000000         3.000000    249.000000\n",
       "max    188.000000       2019.000000         3.600000    381.000000"
      ]
     },
     "execution_count": 34,
     "metadata": {},
     "output_type": "execute_result"
    }
   ],
   "source": [
    "# кластер 4 (синий)\n",
    "cars_df.loc[kmeans.labels_ == 3, cols].describe()"
   ]
  },
  {
   "cell_type": "markdown",
   "metadata": {},
   "source": [
    "В этот кластер входят машины имеющие в целом средние показатели по пробегу и по пробегу"
   ]
  },
  {
   "cell_type": "markdown",
   "metadata": {},
   "source": [
    "# Регрессия\n",
    "\n",
    "В качестве предиктивной модели будем использовать модель линейной регрессии. А в качестве метрики качества - Mean Absolute Error, поскольку она в данном случае будет легко интерпретироваться и обозначать - на сколько млн. рублей наша модель в среднем ошибается.   \n",
    "\n",
    "Для начала разделим всю выборку на обучающую и тестовую."
   ]
  },
  {
   "cell_type": "code",
   "execution_count": 35,
   "metadata": {},
   "outputs": [],
   "source": [
    "X_train, X_test, y_train, y_test = train_test_split(X, Y, test_size=0.3, random_state=RANDOM_STATE)"
   ]
  },
  {
   "cell_type": "markdown",
   "metadata": {},
   "source": [
    "Теперь обучим модель на `X_train` и протестируем на `X_test`"
   ]
  },
  {
   "cell_type": "code",
   "execution_count": 65,
   "metadata": {},
   "outputs": [
    {
     "name": "stdout",
     "output_type": "stream",
     "text": [
      "MAE = 0.532 млн руб\n"
     ]
    }
   ],
   "source": [
    "model = Lasso(random_state=RANDOM_STATE, alpha=0.005)\n",
    "model.fit(X_train, y_train)\n",
    "y_pred = model.predict(X_test)\n",
    "MAE = metrics.mean_absolute_error(y_test, y_pred)\n",
    "print(\"MAE = {:.3} млн руб\".format(MAE))"
   ]
  },
  {
   "cell_type": "markdown",
   "metadata": {},
   "source": [
    "Отбразим коэффициенты линейной регрессии, которые можно интерпретировать как важность признака для прогноза"
   ]
  },
  {
   "cell_type": "code",
   "execution_count": 74,
   "metadata": {},
   "outputs": [
    {
     "data": {
      "image/png": "[encoded data removed]",
      "text/plain": [
       "<Figure size 720x576 with 1 Axes>"
      ]
     },
     "metadata": {},
     "output_type": "display_data"
    }
   ],
   "source": [
    "plt.rcParams['figure.figsize'] = (10,8)\n",
    "index = np.arange(len(X_train.columns))\n",
    "plt.bar(index, model.coef_)\n",
    "plt.xlabel('Название признака', fontsize=20)\n",
    "plt.ylabel('Важность признака', fontsize=20)\n",
    "plt.xticks(index, X_train.columns, fontsize=15, rotation=90)\n",
    "plt.show()"
   ]
  },
  {
   "cell_type": "markdown",
   "metadata": {},
   "source": [
    "И сразу заметим, что на цену машины влияет, является ли она Mecedes-Benz или нет, а также пробег, мощность двигателя и т.д."
   ]
  },
  {
   "cell_type": "code",
   "execution_count": null,
   "metadata": {},
   "outputs": [],
   "source": []
  }
 ],
 "metadata": {
  "kernelspec": {
   "display_name": "Python 3",
   "language": "python",
   "name": "python3"
  },
  "language_info": {
   "codemirror_mode": {
    "name": "ipython",
    "version": 3
   },
   "file_extension": ".py",
   "mimetype": "text/x-python",
   "name": "python",
   "nbconvert_exporter": "python",
   "pygments_lexer": "ipython3",
   "version": "3.5.4"
  }
 },
 "nbformat": 4,
 "nbformat_minor": 2
}
